{
 "cells": [
  {
   "cell_type": "code",
   "execution_count": 3,
   "id": "2dc03be4-7b04-412d-942f-2c347df81ea0",
   "metadata": {},
   "outputs": [],
   "source": [
    "import pandas as pd\n",
    "import numpy as np\n",
    "from scipy import stats"
   ]
  },
  {
   "cell_type": "code",
   "execution_count": 9,
   "id": "7e608260-38d8-465f-94c0-91e5522f9fac",
   "metadata": {},
   "outputs": [],
   "source": [
    "#insert the data\n",
    "data=[1.13,1.55,1.43,0.92,1.25,1.36,1.32,0.85,1.07,1.48,1.20,1.33,1.18,1.22,1.29]\n",
    "data\n",
    "n=len(data) #sample size\n"
   ]
  },
  {
   "cell_type": "code",
   "execution_count": null,
   "id": "a21a7b06-df7b-4317-8ad2-76e21d95d4d0",
   "metadata": {},
   "outputs": [],
   "source": [
    "# Task a:99% Confidence Interval using standard Deviation"
   ]
  },
  {
   "cell_type": "code",
   "execution_count": 19,
   "id": "ffc6dc1b-5e8b-493b-940a-e01387730735",
   "metadata": {},
   "outputs": [
    {
     "name": "stdout",
     "output_type": "stream",
     "text": [
      "99% Confidence Interval (using population std dev): (1.0902, 1.3871)\n"
     ]
    }
   ],
   "source": [
    "\n",
    "mean=np.mean(data)\n",
    "std_dev=np.std(data,ddof=1) #ddof=1 mean sample of std dev\n",
    "confidence=0.99\n",
    "\n",
    "# t-value\n",
    "t_value=stats.t.ppf((1+confidence) / 2,n-1)\n",
    "\n",
    "# Margin of error\n",
    "margin_error=t_value*(std_dev/np.sqrt(n))\n",
    "\n",
    "# confidence Interval\n",
    "lower=mean-margin_error\n",
    "upper=mean+margin_error\n",
    "\n",
    "print(f\"99% Confidence Interval (using population std dev): ({lower:.4f}, {upper:.4f})\")\n",
    "\n"
   ]
  },
  {
   "cell_type": "code",
   "execution_count": null,
   "id": "9c6339e5-025e-4daa-a17f-6b644d7a6322",
   "metadata": {},
   "outputs": [],
   "source": [
    "#Task b:build 99% confidence Interval Using Known Population Standard Deviation."
   ]
  },
  {
   "cell_type": "code",
   "execution_count": 18,
   "id": "25b58d81-5e55-4194-8eee-b73202f5498c",
   "metadata": {},
   "outputs": [
    {
     "name": "stdout",
     "output_type": "stream",
     "text": [
      "99% Confidence Interval (using population std dev): (1.1057, 1.3717)\n"
     ]
    }
   ],
   "source": [
    "\n",
    "#population std dev\n",
    "pop_std_dev=0.2\n",
    "\n",
    "#z-Value\n",
    "z_value=stats.norm.ppf((1+confidence)/2)\n",
    "\n",
    "#Margin of error\n",
    "margin_error_z=z_value*(pop_std_dev / np.sqrt(n))\n",
    "\n",
    "#confidence Interval\n",
    "lower_z=mean-margin_error_z\n",
    "upper_z=mean + margin_error_z\n",
    "\n",
    "print(f\"99% Confidence Interval (using population std dev): ({lower_z:.4f}, {upper_z:.4f})\")"
   ]
  }
 ],
 "metadata": {
  "kernelspec": {
   "display_name": "Python 3 (ipykernel)",
   "language": "python",
   "name": "python3"
  },
  "language_info": {
   "codemirror_mode": {
    "name": "ipython",
    "version": 3
   },
   "file_extension": ".py",
   "mimetype": "text/x-python",
   "name": "python",
   "nbconvert_exporter": "python",
   "pygments_lexer": "ipython3",
   "version": "3.12.7"
  }
 },
 "nbformat": 4,
 "nbformat_minor": 5
}
